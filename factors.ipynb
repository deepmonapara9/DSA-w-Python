{
  "cells": [
    {
      "cell_type": "markdown",
      "metadata": {},
      "source": [
        "# Factors\n",
        "\n",
        "This notebook demonstrates different approaches to finding factors of a number, from brute force to optimal solutions.\n"
      ]
    },
    {
      "cell_type": "markdown",
      "metadata": {},
      "source": [
        "## Brute Force Approach\n",
        "- **Time Complexity:** O(n)\n",
        "- **Space Complexity:** O(1)\n"
      ]
    },
    {
      "cell_type": "code",
      "execution_count": null,
      "metadata": {},
      "outputs": [],
      "source": [
        "from math import sqrt\n",
        "from typing import List\n",
        "\n",
        "def factors_brute_force(n: int) -> List[int]:\n",
        "    factors = []\n",
        "    for i in range(1, n + 1):\n",
        "        if n % i == 0:\n",
        "            factors.append(i)\n",
        "    return factors\n",
        "\n",
        "print(factors_brute_force(20))\n"
      ]
    },
    {
      "cell_type": "markdown",
      "metadata": {},
      "source": [
        "## Better Approach\n",
        "- **Time Complexity:** O(n/2) or O(n)\n",
        "- **Space Complexity:** O(k), where k is the number of factors of num\n"
      ]
    },
    {
      "cell_type": "code",
      "execution_count": null,
      "metadata": {},
      "outputs": [],
      "source": [
        "def factors(num: int) -> List[int]:\n",
        "    factors = []\n",
        "    for i in range(1, num // 2 + 1):\n",
        "        if num % i == 0:\n",
        "            factors.append(i)\n",
        "        factors.append(num)\n",
        "    return factors\n",
        "\n",
        "print(factors(20))\n"
      ]
    },
    {
      "cell_type": "markdown",
      "metadata": {},
      "source": [
        "## Optimal Approach\n",
        "- **Time Complexity:** O(sqrt(n))\n",
        "- **Space Complexity:** O(k), where k is the number of factors of num\n"
      ]
    },
    {
      "cell_type": "code",
      "execution_count": null,
      "metadata": {},
      "outputs": [],
      "source": [
        "def factors(num: int) -> List[int]:\n",
        "    factors = []\n",
        "    for i in range(1, int(sqrt(num)) + 1):\n",
        "        if num % i == 0:\n",
        "            factors.append(i)\n",
        "            if num // i != i:\n",
        "                factors.append(num // i)\n",
        "    factors.sort()\n",
        "    return factors\n",
        "\n",
        "print(factors(36))\n"
      ]
    }
  ],
  "metadata": {
    "language_info": {
      "name": "python"
    }
  },
  "nbformat": 4,
  "nbformat_minor": 2
}
