{
 "cells": [
  {
   "cell_type": "code",
   "execution_count": null,
   "id": "76646ce0",
   "metadata": {},
   "outputs": [],
   "source": [
    "# Q1.\n",
    "n = [5, 3, 2, 2, 1, 5, 5, 7, 5, 10]\n",
    "m = [10, 11, 1, 9, 5, 67, 2]"
   ]
  },
  {
   "cell_type": "code",
   "execution_count": 1,
   "id": "a70144db",
   "metadata": {},
   "outputs": [
    {
     "name": "stdout",
     "output_type": "stream",
     "text": [
      "10 1\n",
      "11 0\n",
      "1 1\n",
      "9 0\n",
      "5 4\n",
      "67 0\n",
      "2 2\n"
     ]
    }
   ],
   "source": [
    "# Using Brute Force Approach\n",
    "# Time Complexity: O(n^2)\n",
    "# Space Complexity: O(1)\n",
    "n = [5, 3, 2, 2, 1, 5, 5, 7, 5, 10]\n",
    "m = [10, 11, 1, 9, 5, 67, 2]\n",
    "\n",
    "# This will print the frequency of each element in the list m in the list n\n",
    "for num in m:\n",
    "   count = 0\n",
    "   for x in n:\n",
    "      if x == num:\n",
    "         count += 1\n",
    "   print(num, count)\n",
    "\n",
    "# Output:\n",
    "# 10 1\n",
    "# 11 0\n",
    "# 1 0\n",
    "# 9 0\n",
    "# 5 4\n",
    "# 67 0\n",
    "# 2 2"
   ]
  },
  {
   "cell_type": "code",
   "execution_count": 2,
   "id": "0d4a6119",
   "metadata": {},
   "outputs": [
    {
     "name": "stdout",
     "output_type": "stream",
     "text": [
      "1\n",
      "0\n",
      "1\n",
      "0\n",
      "4\n",
      "0\n",
      "2\n"
     ]
    }
   ],
   "source": [
    "# Optimal Approach\n",
    "# Time Complexity: O(n)\n",
    "# Space Complexity: O(n)\n",
    "n = [5, 3, 2, 2, 1, 5, 5, 7, 5, 10]\n",
    "m = [10, 11, 1, 9, 5, 67, 2]\n",
    "\n",
    "# Creating a hash map of size 11 with all elements as 0\n",
    "hash_map = [0] * 11\n",
    "\n",
    "# Adding 1 to the value of the key if it is present in the list\n",
    "for num in n:\n",
    "   hash_map[num] += 1\n",
    "\n",
    "# Printing the frequency of each element in the list m in the list n\n",
    "for num in m:\n",
    "   if num < 1 or num > 10:\n",
    "      print(0)\n",
    "   else:\n",
    "      print(hash_map[num])"
   ]
  },
  {
   "cell_type": "code",
   "execution_count": 5,
   "id": "5c0ccd2c",
   "metadata": {},
   "outputs": [
    {
     "name": "stdout",
     "output_type": "stream",
     "text": [
      "10 1\n",
      "11 0\n",
      "1 1\n",
      "9 0\n",
      "5 4\n",
      "67 0\n",
      "2 2\n"
     ]
    }
   ],
   "source": [
    "# Using Dci\n",
    "# Time Complexity: O(n)\n",
    "# Space Complexity: O(n)\n",
    "n = [5, 3, 2, 2, 1, 5, 5, 7, 5, 10]\n",
    "m = [10, 11, 1, 9, 5, 67, 2]\n",
    "\n",
    "hash_map = {}\n",
    "for num in n:\n",
    "   hash_map[num] = hash_map.get(num, 0) + 1\n",
    "\n",
    "for num in m:\n",
    "   print(num, hash_map.get(num, 0))"
   ]
  },
  {
   "cell_type": "code",
   "execution_count": 6,
   "id": "a4c9b268",
   "metadata": {},
   "outputs": [
    {
     "name": "stdout",
     "output_type": "stream",
     "text": [
      "0\n",
      "5\n",
      "3\n",
      "1\n"
     ]
    }
   ],
   "source": [
    "# Q2 Character Hashing\n",
    "# Time Complexity: O(n)\n",
    "# Sapce Complexity: O(1)\n",
    "\n",
    "s = \"azyuyyzaaaa\"\n",
    "q = [\"d\", \"a\", \"y\", \"u\"]\n",
    "hash_list = [0] * 26\n",
    "\n",
    "# This loop will iterate through the string s and add 1 to the value of the key if it is present in the string s\n",
    "for ch in s:\n",
    "   ascii_value = ord(ch)\n",
    "   index = ascii_value - 97\n",
    "   hash_list[index] += 1\n",
    "\n",
    "# This loop will iterate through the list q and print the value of the key if it is present in the list q\n",
    "for ch in q:\n",
    "   ascii_value = ord(ch)\n",
    "   index = ascii_value - 97\n",
    "   print(hash_list[index])"
   ]
  }
 ],
 "metadata": {
  "kernelspec": {
   "display_name": "Python 3",
   "language": "python",
   "name": "python3"
  },
  "language_info": {
   "codemirror_mode": {
    "name": "ipython",
    "version": 3
   },
   "file_extension": ".py",
   "mimetype": "text/x-python",
   "name": "python",
   "nbconvert_exporter": "python",
   "pygments_lexer": "ipython3",
   "version": "3.10.18"
  }
 },
 "nbformat": 4,
 "nbformat_minor": 5
}
