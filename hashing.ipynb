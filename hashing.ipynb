{
 "cells": [
  {
   "cell_type": "markdown",
   "id": "ce299218",
   "metadata": {},
   "source": [
    "# Hashing Techniques\n",
    "\n",
    "This notebook demonstrates various hashing techniques for counting frequencies of elements in arrays and strings.\n",
    "\n",
    "## Problem 1: Array Element Frequency Counting\n",
    "\n",
    "Given two arrays `n` and `m`, find the frequency of each element in array `m` within array `n`.\n"
   ]
  },
  {
   "cell_type": "code",
   "execution_count": null,
   "id": "113d5360",
   "metadata": {},
   "outputs": [],
   "source": [
    "# Input data\n",
    "n = [5, 3, 2, 2, 1, 5, 5, 7, 5, 10]\n",
    "m = [10, 11, 1, 9, 5, 67, 2]\n",
    "\n",
    "print(f\"Array n: {n}\")\n",
    "print(f\"Array m: {m}\")\n"
   ]
  },
  {
   "cell_type": "markdown",
   "id": "4eecd29d",
   "metadata": {},
   "source": [
    "## Method 1: Brute Force Approach\n",
    "\n",
    "- **Time Complexity:** O(n × m) where n and m are the lengths of the arrays\n",
    "- **Space Complexity:** O(1)\n",
    "\n",
    "This approach uses nested loops to count the frequency of each element in array `m` within array `n`.\n"
   ]
  },
  {
   "cell_type": "code",
   "execution_count": null,
   "id": "15aaa866",
   "metadata": {},
   "outputs": [],
   "source": [
    "# Brute Force Implementation\n",
    "# This will print the frequency of each element in the list m in the list n\n",
    "for num in m:\n",
    "   count = 0\n",
    "   for x in n:\n",
    "      if x == num:\n",
    "         count += 1\n",
    "   print(f\"Element {num}: {count} occurrences\")\n"
   ]
  },
  {
   "cell_type": "markdown",
   "id": "e52f9cd9",
   "metadata": {},
   "source": [
    "## Method 2: Array-based Hashing (Optimal for Small Range)\n",
    "\n",
    "- **Time Complexity:** O(n + m)\n",
    "- **Space Complexity:** O(k) where k is the range of values\n",
    "\n",
    "This approach uses an array as a hash map, which is efficient when the range of values is small and known.\n"
   ]
  },
  {
   "cell_type": "code",
   "execution_count": null,
   "id": "d904b8aa",
   "metadata": {},
   "outputs": [],
   "source": [
    "# Array-based Hashing Implementation\n",
    "# Creating a hash map of size 11 with all elements as 0\n",
    "hash_map = [0] * 11\n",
    "\n",
    "# Adding 1 to the value of the key if it is present in the list\n",
    "for num in n:\n",
    "   hash_map[num] += 1\n",
    "\n",
    "# Printing the frequency of each element in the list m in the list n\n",
    "for num in m:\n",
    "   if num < 1 or num > 10:\n",
    "      print(f\"Element {num}: 0 occurrences\")\n",
    "   else:\n",
    "      print(f\"Element {num}: {hash_map[num]} occurrences\")\n"
   ]
  },
  {
   "cell_type": "markdown",
   "id": "2c5167c9",
   "metadata": {},
   "source": [
    "## Method 3: Dictionary-based Hashing (Most Flexible)\n",
    "\n",
    "- **Time Complexity:** O(n + m)\n",
    "- **Space Complexity:** O(k) where k is the number of unique elements\n",
    "\n",
    "This approach uses a dictionary (hash map) which is the most flexible and efficient for general cases.\n"
   ]
  },
  {
   "cell_type": "code",
   "execution_count": null,
   "id": "a5c7f6d7",
   "metadata": {},
   "outputs": [],
   "source": [
    "# Dictionary-based Hashing Implementation\n",
    "hash_map = {}\n",
    "for num in n:\n",
    "   hash_map[num] = hash_map.get(num, 0) + 1\n",
    "\n",
    "for num in m:\n",
    "   print(f\"Element {num}: {hash_map.get(num, 0)} occurrences\")\n"
   ]
  },
  {
   "cell_type": "markdown",
   "id": "ab118902",
   "metadata": {},
   "source": [
    "## Problem 2: Character Frequency Counting\n",
    "\n",
    "Given a string `s` and a list of characters `q`, find the frequency of each character in `q` within string `s`.\n",
    "\n",
    "- **Time Complexity:** O(n + m) where n is the length of string and m is the number of queries\n",
    "- **Space Complexity:** O(1) - using a fixed-size array of 26 elements\n"
   ]
  },
  {
   "cell_type": "code",
   "execution_count": null,
   "id": "bf54cdb1",
   "metadata": {},
   "outputs": [],
   "source": [
    "# Character Hashing Implementation\n",
    "s = \"azyuyyzaaaa\"\n",
    "q = [\"d\", \"a\", \"y\", \"u\"]\n",
    "hash_list = [0] * 26\n",
    "\n",
    "print(f\"String s: {s}\")\n",
    "print(f\"Characters to count: {q}\")\n",
    "\n",
    "# This loop will iterate through the string s and add 1 to the value of the key if it is present in the string s\n",
    "for ch in s:\n",
    "   ascii_value = ord(ch)\n",
    "   index = ascii_value - 97\n",
    "   hash_list[index] += 1\n",
    "\n",
    "# This loop will iterate through the list q and print the value of the key if it is present in the list q\n",
    "for ch in q:\n",
    "   ascii_value = ord(ch)\n",
    "   index = ascii_value - 97\n",
    "   print(f\"Character '{ch}': {hash_list[index]} occurrences\")\n"
   ]
  }
 ],
 "metadata": {
  "language_info": {
   "name": "python"
  }
 },
 "nbformat": 4,
 "nbformat_minor": 5
}
