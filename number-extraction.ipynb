{
  "cells": [
    {
      "cell_type": "markdown",
      "metadata": {},
      "source": [
        "# Number Extraction and Manipulation\n",
        "\n",
        "This notebook demonstrates various number manipulation techniques including:\n",
        "- Reversing numbers\n",
        "- Counting digits\n",
        "- Checking palindromes\n",
        "- Armstrong numbers\n"
      ]
    },
    {
      "cell_type": "code",
      "execution_count": null,
      "metadata": {},
      "outputs": [],
      "source": [
        "from math import *\n"
      ]
    },
    {
      "cell_type": "markdown",
      "metadata": {},
      "source": [
        "## Reversing a Number\n",
        "\n",
        "This will reverse the number like last to front and using floor division.\n"
      ]
    },
    {
      "cell_type": "code",
      "execution_count": null,
      "metadata": {},
      "outputs": [],
      "source": [
        "# Space Complexity: O(1)\n",
        "# This will reverse the number like last to front and using floor division\n",
        "# Output: 3785\n",
        "n = 5873\n",
        "# n = 121\n",
        "num = n\n",
        "\n",
        "# while num > 0:\n",
        "#     last_digit = num % 10\n",
        "#     print(last_digit)\n",
        "#     num = num // 10\n"
      ]
    },
    {
      "cell_type": "markdown",
      "metadata": {},
      "source": [
        "## Counting Digits\n"
      ]
    },
    {
      "cell_type": "code",
      "execution_count": null,
      "metadata": {},
      "outputs": [],
      "source": [
        "# count the number\n",
        "# count = 0\n",
        "# while num > 0:\n",
        "#     count += 1\n",
        "#     num = num // 10\n",
        "# print(count)\n",
        "\n",
        "# using logarithm\n",
        "def count_digits(num):\n",
        "   return int(log10(num)) + 1\n",
        "\n",
        "print(f\"Number of digits in {n}: {count_digits(n)}\")\n"
      ]
    },
    {
      "cell_type": "markdown",
      "metadata": {},
      "source": [
        "## Check Palindrome\n",
        "\n",
        "- **Time Complexity:** O(log10(N))\n",
        "- **Space Complexity:** O(1)\n"
      ]
    },
    {
      "cell_type": "code",
      "execution_count": null,
      "metadata": {},
      "outputs": [],
      "source": [
        "# Check palindrome\n",
        "# result = 0\n",
        "# while num > 0:\n",
        "#    ld = num % 10 # 3\n",
        "#    result = result * 10 + ld # 0 * 10 + 3\n",
        "#    num = num // 10\n",
        "# if result == n:\n",
        "#    print(\"palindrome\")\n",
        "# else:\n",
        "#    print(\"not palindrome\")\n",
        "\n",
        "# Leetcode 9 solution for palindrome number\n",
        "class Solution:\n",
        "    def isPalindrome(self, x):\n",
        "        if x < 0:\n",
        "            return False\n",
        "        num = x\n",
        "        palindrome_number = 0\n",
        "        while num > 0:\n",
        "            last_digit = num % 10\n",
        "            palindrome_number = (palindrome_number * 10) + last_digit\n",
        "            num //= 10\n",
        "        return palindrome_number == x\n",
        "\n",
        "# Test palindrome\n",
        "test_num = 121\n",
        "solution = Solution()\n",
        "print(f\"Is {test_num} a palindrome? {solution.isPalindrome(test_num)}\")\n"
      ]
    },
    {
      "cell_type": "markdown",
      "metadata": {},
      "source": [
        "## Armstrong Number\n",
        "\n",
        "- **Time Complexity:** O(log10(N) * d) where d is number of digits\n",
        "- **Space Complexity:** O(1)\n"
      ]
    },
    {
      "cell_type": "code",
      "execution_count": null,
      "metadata": {},
      "outputs": [],
      "source": [
        "# Armstrong number\n",
        "n = 153\n",
        "num = n\n",
        "nod = len(str(n))\n",
        "total = 0\n",
        "\n",
        "while num > 0:\n",
        "   ld = num % 10\n",
        "   total = total + (ld ** nod)\n",
        "   num = num // 10\n",
        "if total == n:\n",
        "   print(\"Armstrong\")   \n",
        "else:\n",
        "   print(\"Not Armstrong\")\n"
      ]
    }
  ],
  "metadata": {
    "language_info": {
      "name": "python"
    }
  },
  "nbformat": 4,
  "nbformat_minor": 2
}
