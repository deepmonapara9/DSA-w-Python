{
  "cells": [
    {
      "cell_type": "markdown",
      "metadata": {},
      "source": [
        "# Big O Notation - Dropping Constants\n",
        "\n",
        "This notebook demonstrates the concept of dropping constants in Big O notation.\n",
        "\n",
        "- It will be n + n = 2n operations, but we drop constants in Big O notation.\n",
        "- Therefore, the time complexity is O(n).\n",
        "- We drop constants in Big O notation, so the time complexity remains O(n). Like this: n(100n) = O(n), not O(100n).\n"
      ]
    },
    {
      "cell_type": "code",
      "execution_count": null,
      "metadata": {},
      "outputs": [],
      "source": [
        "def print_items(n):\n",
        "   for i in range(n):\n",
        "      print(i)\n",
        "      \n",
        "   for j in range(n):\n",
        "      print(j)\n",
        "      \n",
        "print_items(5)\n"
      ]
    }
  ],
  "metadata": {
    "language_info": {
      "name": "python"
    }
  },
  "nbformat": 4,
  "nbformat_minor": 2
}
