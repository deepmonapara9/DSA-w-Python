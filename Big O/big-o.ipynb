{
  "cells": [
    {
      "cell_type": "markdown",
      "metadata": {},
      "source": [
        "# Big O Notation - Basic Example\n",
        "\n",
        "This notebook demonstrates the concept of dropping constants in Big O notation.\n",
        "\n",
        "The function prints items from 0 to n-1, and the time complexity is O(n).\n"
      ]
    },
    {
      "cell_type": "code",
      "execution_count": null,
      "metadata": {},
      "outputs": [],
      "source": [
        "def print_items(n):\n",
        "   for i in range(n):\n",
        "      print(i)\n",
        "      \n",
        "print_items(5)\n"
      ]
    }
  ],
  "metadata": {
    "language_info": {
      "name": "python"
    }
  },
  "nbformat": 4,
  "nbformat_minor": 2
}
