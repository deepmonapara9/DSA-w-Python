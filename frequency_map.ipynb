{
  "cells": [
    {
      "cell_type": "markdown",
      "metadata": {},
      "source": [
        "# Frequency Map\n",
        "\n",
        "This notebook demonstrates frequency map implementation using a dictionary to count the frequency of each element in a list.\n",
        "\n",
        "- **Time Complexity:** O(n)\n",
        "- **Space Complexity:** O(n)\n"
      ]
    },
    {
      "cell_type": "markdown",
      "metadata": {},
      "source": [
        "## Method 1: Using if-else condition\n"
      ]
    },
    {
      "cell_type": "code",
      "execution_count": null,
      "metadata": {},
      "outputs": [],
      "source": [
        "# Method 1: Using if-else condition\n",
        "nums = [5, 6, 7, 7, 1, 9, 111, 1, 1, 5, 1, 1]\n",
        "\n",
        "freq_map = {}\n",
        "# or freq_map = dict()\n",
        "\n",
        "for i in range(0, len(nums)):\n",
        "   if nums[i] in freq_map:\n",
        "      freq_map[nums[i]] += 1\n",
        "   else:\n",
        "      freq_map[nums[i]] = 1\n",
        "\n",
        "print(freq_map)\n",
        "# Output: {5: 2, 6: 1, 7: 2, 1: 5, 9: 1, 111: 1}\n"
      ]
    },
    {
      "cell_type": "markdown",
      "metadata": {},
      "source": [
        "## Method 2: Using get() method (More Pythonic)\n",
        "\n",
        "In this method we are using the get method to get the value of the key if it is not present then it will return 0. And then we are adding 1 to the value.\n"
      ]
    },
    {
      "cell_type": "code",
      "execution_count": null,
      "metadata": {},
      "outputs": [],
      "source": [
        "# Method 2: Using get() method\n",
        "nums = [5, 6, 7, 7, 1, 9, 111, 1, 1, 5, 1, 1]\n",
        "\n",
        "hash_map = {}\n",
        "n = len(nums)\n",
        "\n",
        "for i in range(0, n):\n",
        "    hash_map[nums[i]] = hash_map.get(nums[i], 0) + 1\n",
        "\n",
        "print(hash_map)\n",
        "# Output: {5: 2, 6: 1, 7: 2, 1: 5, 9: 1, 111: 1}\n"
      ]
    }
  ],
  "metadata": {
    "language_info": {
      "name": "python"
    }
  },
  "nbformat": 4,
  "nbformat_minor": 2
}
